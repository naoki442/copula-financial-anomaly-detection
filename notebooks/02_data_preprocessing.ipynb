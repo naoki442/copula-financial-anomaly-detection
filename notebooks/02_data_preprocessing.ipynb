{
 "cells": [
  {
   "cell_type": "code",
   "execution_count": null,
   "id": "01d61f9a",
   "metadata": {
    "vscode": {
     "languageId": "plaintext"
    }
   },
   "outputs": [],
   "source": [
    "# 実データでの前処理\n",
    "\n",
    "金融データをコピュラ分析用に変換"
   ]
  },
  {
   "cell_type": "markdown",
   "id": "84b2fa5a",
   "metadata": {},
   "source": []
  },
  {
   "cell_type": "code",
   "execution_count": null,
   "id": "448b8dd5",
   "metadata": {},
   "outputs": [],
   "source": [
    "import pandas as pd\n",
    "import yfinance as yf\n",
    "from scipy.stats import rankdata\n",
    "\n",
    "# データ取得\n",
    "symbols = [\"^N225\", \"^GSPC\"]  # 日経225, S&P500\n",
    "print(\"データをダウンロード中...\")\n",
    "data = yf.download(symbols, start=\"2015-01-01\", end=\"2024-01-01\")['Close']\n",
    "data.columns = ['Nikkei', 'SP500']\n",
    "\n",
    "# 対数収益率\n",
    "returns = np.log(data / data.shift(1)).dropna()\n",
    "\n",
    "print(f\"データ期間: {returns.index[0].strftime('%Y-%m-%d')} ～ {returns.index[-1].strftime('%Y-%m-%d')}\")\n",
    "print(f\"観測数: {len(returns)}日\")\n",
    "\n",
    "# 基本統計\n",
    "print(\"\\n基本統計:\")\n",
    "print(returns.describe())\n",
    "\n",
    "# コピュラ用の変換: 経験分布による一様分布化\n",
    "def to_uniform_marginals(series):\n",
    "    \"\"\"データを経験分布により[0,1]区間に変換\"\"\"\n",
    "    ranks = rankdata(series)\n",
    "    return ranks / (len(ranks) + 1)\n",
    "\n",
    "# 一様分布への変換\n",
    "u_nikkei = to_uniform_marginals(returns['Nikkei'])\n",
    "u_sp500 = to_uniform_marginals(returns['SP500'])\n",
    "\n",
    "print(f\"\\n変換前データ範囲: {returns.min().min():.4f} ～ {returns.max().max():.4f}\")\n",
    "print(f\"変換後データ範囲: {min(u_nikkei.min(), u_sp500.min()):.4f} ～ {max(u_nikkei.max(), u_sp500.max()):.4f}\")\n",
    "\n",
    "# 変換の可視化\n",
    "fig, (ax1, ax2) = plt.subplots(1, 2, figsize=(12, 5))\n",
    "\n",
    "ax1.scatter(returns['Nikkei'], returns['SP500'], alpha=0.6)\n",
    "ax1.set_title('Original Returns')\n",
    "ax1.set_xlabel('Nikkei Returns')\n",
    "ax1.set_ylabel('S&P500 Returns')\n",
    "\n",
    "ax2.scatter(u_nikkei, u_sp500, alpha=0.6, color='red')\n",
    "ax2.set_title('Uniform Marginals (Copula Domain)')\n",
    "ax2.set_xlabel('Nikkei Uniform')\n",
    "ax2.set_ylabel('S&P500 Uniform')\n",
    "\n",
    "plt.tight_layout()\n",
    "plt.show()"
   ]
  }
 ],
 "metadata": {
  "language_info": {
   "name": "python"
  }
 },
 "nbformat": 4,
 "nbformat_minor": 5
}
